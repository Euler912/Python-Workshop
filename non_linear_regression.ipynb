{
  "nbformat": 4,
  "nbformat_minor": 0,
  "metadata": {
    "colab": {
      "name": "non_linear_regression.ipynb",
      "provenance": []
    },
    "kernelspec": {
      "name": "python3",
      "display_name": "Python 3"
    },
    "language_info": {
      "name": "python"
    }
  },
  "cells": [
    {
      "cell_type": "code",
      "metadata": {
        "colab": {
          "base_uri": "https://localhost:8080/",
          "height": 331
        },
        "id": "4qAon-JVFnyH",
        "outputId": "39a2b81d-4397-4a30-bb88-c8a494115180"
      },
      "source": [
        "import numpy as np\n",
        "from scipy import optimize\n",
        "def model(x, u):\n",
        "    return np.cos(x[1] * u) +np.exp(u*x[0])\n",
        "def fun(x, u, y):\n",
        "    return model(x, u) - y\n",
        "def jac(x, u, y):\n",
        "    J = np.empty((u.size, x.size))\n",
        "    J[:, 0] = -u*np.sin(x[1]*u)\n",
        "    J[:, 1] =  u*np.exp(x[0]*u)\n",
        "    return J\n",
        "u = np.array([1.2,4, 2.0, 1.0])\n",
        "y = np.array([1.557e-1, 1.247e-1, 1.335e-1,1.635e-1])\n",
        "x0 = np.array([2.5, 3.9])\n",
        "res = optimize.least_squares(fun, x0, jac=jac, bounds=(0, 10), args=(u, y), verbose=1)\n",
        "\n",
        "\n",
        "res.x\n",
        "\n",
        "import matplotlib.pyplot as plt\n",
        "u_test = np.linspace(0, 5)\n",
        "y_test = model(res.x, u_test)\n",
        "plt.plot(u, y, 'o', markersize=4, label='data')\n",
        "plt.plot(u_test, y_test, label='fitted model')\n",
        "plt.xlabel(\"u\")\n",
        "plt.ylabel(\"y\")\n"
      ],
      "execution_count": null,
      "outputs": [
        {
          "output_type": "stream",
          "text": [
            "`xtol` termination condition is satisfied.\n",
            "Function evaluations 14, initial cost 2.4257e+08, final cost 2.4257e+08, first-order optimality 7.57e+09.\n"
          ],
          "name": "stdout"
        },
        {
          "output_type": "execute_result",
          "data": {
            "text/plain": [
              "Text(0, 0.5, 'y')"
            ]
          },
          "metadata": {
            "tags": []
          },
          "execution_count": 16
        },
        {
          "output_type": "display_data",
          "data": {
            "image/png": "[encoded data removed]",
            "text/plain": [
              "<Figure size 432x288 with 1 Axes>"
            ]
          },
          "metadata": {
            "tags": [],
            "needs_background": "light"
          }
        }
      ]
    }
  ]
}